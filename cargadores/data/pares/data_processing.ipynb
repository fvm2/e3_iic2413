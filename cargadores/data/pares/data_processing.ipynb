{
 "cells": [
  {
   "cell_type": "code",
   "execution_count": 1,
   "metadata": {},
   "outputs": [],
   "source": [
    "import pandas as pd"
   ]
  },
  {
   "cell_type": "code",
   "execution_count": 4,
   "metadata": {},
   "outputs": [],
   "source": [
    "suscripciones_o = pd.read_excel('raw_data/paresv2.xlsx', sheet_name='subscripciones')\n",
    "generos_o = pd.read_excel('raw_data/paresv2.xlsx', sheet_name='genero')\n",
    "pagos_o = pd.read_excel('raw_data/paresv2.xlsx', sheet_name='pagos')\n",
    "proveedores_o = pd.read_excel('raw_data/paresv2.xlsx', sheet_name='proveedores')\n",
    "usuario_proveedor_o = pd.read_excel('raw_data/paresv2.xlsx', sheet_name='usuario proveedor')\n",
    "usuario_actividad_o = pd.read_excel('raw_data/paresv2.xlsx', sheet_name='usuario actividades')\n",
    "videojuego_genero_o = pd.read_excel('raw_data/paresv2.xlsx', sheet_name='videojuego genero')\n",
    "videojuego_o = pd.read_excel('raw_data/paresv2.xlsx', sheet_name='videojuego')"
   ]
  },
  {
   "cell_type": "code",
   "execution_count": 6,
   "metadata": {},
   "outputs": [
    {
     "name": "stderr",
     "output_type": "stream",
     "text": [
      "/var/folders/w_/hg_83yp12fxctnr04jpgsgg00000gn/T/ipykernel_7049/2886203505.py:3: SettingWithCopyWarning: \n",
      "A value is trying to be set on a copy of a slice from a DataFrame\n",
      "\n",
      "See the caveats in the documentation: https://pandas.pydata.org/pandas-docs/stable/user_guide/indexing.html#returning-a-view-versus-a-copy\n",
      "  select.drop_duplicates(subset=\"id_videojuego\", keep=\"first\", inplace=True)\n"
     ]
    }
   ],
   "source": [
    "# Videojuegos (id_videojuego, titulo, puntuacion, clasificacion, fecha, beneficio_preorden)\n",
    "select = videojuego_o[[\"id_videojuego\", \"titulo\", \"puntuacion\", \"clasificacion\", \"fecha_de_lanzamiento\", \"beneficio_preorden\"]]\n",
    "select.drop_duplicates(subset=\"id_videojuego\", keep=\"first\", inplace=True)\n",
    "select.to_csv(\"filtered_data/videojuegos.csv\", index=False)"
   ]
  },
  {
   "cell_type": "code",
   "execution_count": 8,
   "metadata": {},
   "outputs": [
    {
     "name": "stderr",
     "output_type": "stream",
     "text": [
      "/var/folders/w_/hg_83yp12fxctnr04jpgsgg00000gn/T/ipykernel_7049/2146107642.py:3: SettingWithCopyWarning: \n",
      "A value is trying to be set on a copy of a slice from a DataFrame\n",
      "\n",
      "See the caveats in the documentation: https://pandas.pydata.org/pandas-docs/stable/user_guide/indexing.html#returning-a-view-versus-a-copy\n",
      "  select.drop_duplicates(subset=\"id_usuario\", keep=\"first\", inplace=True)\n"
     ]
    }
   ],
   "source": [
    "# Usuarios (id_usuario, nombre, username, mail, password, fecha_nacimiento)\n",
    "select = usuario_actividad_o[[\"id_usuario\", \"nombre\", \"username\", \"mail\", \"password\", \"fecha_nacimiento\"]]\n",
    "select.drop_duplicates(subset=\"id_usuario\", keep=\"first\", inplace=True)\n",
    "select.to_csv(\"filtered_data/usuarios.csv\", index=False)"
   ]
  },
  {
   "cell_type": "code",
   "execution_count": 13,
   "metadata": {},
   "outputs": [
    {
     "name": "stderr",
     "output_type": "stream",
     "text": [
      "/var/folders/w_/hg_83yp12fxctnr04jpgsgg00000gn/T/ipykernel_7049/3086117897.py:3: SettingWithCopyWarning: \n",
      "A value is trying to be set on a copy of a slice from a DataFrame\n",
      "\n",
      "See the caveats in the documentation: https://pandas.pydata.org/pandas-docs/stable/user_guide/indexing.html#returning-a-view-versus-a-copy\n",
      "  select.drop_duplicates(subset=\"id\", keep=\"first\", inplace=True)\n"
     ]
    }
   ],
   "source": [
    "# Proveedores (id_proveedor, nombre, plataforma)\n",
    "select = proveedores_o[[\"id\", \"nombre\", \"plataforma\"]]\n",
    "select.drop_duplicates(subset=\"id\", keep=\"first\", inplace=True)\n",
    "select.to_csv(\"filtered_data/proveedoresvj.csv\", index=False)"
   ]
  },
  {
   "cell_type": "code",
   "execution_count": 16,
   "metadata": {},
   "outputs": [],
   "source": [
    "# Resenas (id_resena, titulo, texto, veredicto)\n",
    "resena_con_user_y_vj = usuario_actividad_o[[\"id_usuario\",\"id_videojuego\",\"titulo\",\"texto\",\"veredicto\"]]\n",
    "filter_condition = resena_con_user_y_vj[[\"veredicto\", \"titulo\", \"texto\"]].notna().all(axis=1)\n",
    "resena_con_user_y_vj = resena_con_user_y_vj[filter_condition]\n",
    "resena_con_user_y_vj['id_resena'] = range(1, len(resena_con_user_y_vj) + 1)\n",
    "select = resena_con_user_y_vj[[\"id_resena\", \"titulo\", \"texto\", \"veredicto\"]]\n",
    "select.to_csv(\"filtered_data/resenas.csv\", index=False)"
   ]
  },
  {
   "cell_type": "code",
   "execution_count": 43,
   "metadata": {},
   "outputs": [
    {
     "name": "stderr",
     "output_type": "stream",
     "text": [
      "/var/folders/w_/hg_83yp12fxctnr04jpgsgg00000gn/T/ipykernel_7049/2265926362.py:10: SettingWithCopyWarning: \n",
      "A value is trying to be set on a copy of a slice from a DataFrame.\n",
      "Try using .loc[row_indexer,col_indexer] = value instead\n",
      "\n",
      "See the caveats in the documentation: https://pandas.pydata.org/pandas-docs/stable/user_guide/indexing.html#returning-a-view-versus-a-copy\n",
      "  pagos_sin_sub[\"id_proveedor\"] = pagos_sin_sub[\"id_proveedor\"].astype(int)\n",
      "/var/folders/w_/hg_83yp12fxctnr04jpgsgg00000gn/T/ipykernel_7049/2265926362.py:11: SettingWithCopyWarning: \n",
      "A value is trying to be set on a copy of a slice from a DataFrame.\n",
      "Try using .loc[row_indexer,col_indexer] = value instead\n",
      "\n",
      "See the caveats in the documentation: https://pandas.pydata.org/pandas-docs/stable/user_guide/indexing.html#returning-a-view-versus-a-copy\n",
      "  pagos_sin_sub[\"id_videojuego\"] = pagos_sin_sub[\"id_videojuego\"].astype(int)\n"
     ]
    }
   ],
   "source": [
    "# Pagos(pago_id, monto, fecha_pago, id_usuario, id_videojuego)\n",
    "# Pagos (pago_id, monto, fecha, id_usuario, id_videojuego)\n",
    "subs_act_o = suscripciones_o[suscripciones_o[\"estado\"] == \"active\"]\n",
    "subs_ina_o = suscripciones_o[suscripciones_o[\"estado\"] == \"canceled\"]\n",
    "subs_id_vj = suscripciones_o[[\"id\", \"id_videojuego\"]].rename(columns={\"id\": \"subs_id\"})\n",
    "\n",
    "pagos_sin_sub = pagos_o[pagos_o[\"subs_id\"].isnull()]\n",
    "pagos_con_sub = pd.concat([pagos_o, pagos_sin_sub]).drop_duplicates(keep=False)\n",
    "\n",
    "pagos_sin_sub[\"id_proveedor\"] = pagos_sin_sub[\"id_proveedor\"].astype(int)\n",
    "pagos_sin_sub[\"id_videojuego\"] = pagos_sin_sub[\"id_videojuego\"].astype(int)\n",
    "pagos_con_sub[\"subs_id\"] = pagos_con_sub[\"subs_id\"].astype(int)\n",
    "\n",
    "# pagos 1 + pagos 2(le falta id_vj) = pagos\n",
    "pagos_1 = pagos_sin_sub[[\"pago_id\", \"monto\", \"fecha\", \"id_usuario\", \"id_videojuego\"]]\n",
    "pagos_2 = pagos_con_sub[[\"pago_id\", \"monto\", \"fecha\", \"id_usuario\", \"subs_id\"]]\n",
    "\n",
    "# Using subs_id_vj to get id_videojuego in pagos_2\n",
    "pagos_2_con_sub_vj = pd.merge(pagos_2, subs_id_vj, on=\"subs_id\", how=\"left\")\n",
    "# now i delete the subs_id column in pagos_2\n",
    "pagos_22 = pagos_2_con_sub_vj.drop(columns=[\"subs_id\"])\n",
    "\n",
    "# now i add the rows of pagos_1 and pagos_22\n",
    "pagos = pd.concat([pagos_1, pagos_22])\n",
    "pagos.to_csv(\"filtered_data/pagos.csv\", index=False)"
   ]
  },
  {
   "cell_type": "code",
   "execution_count": 45,
   "metadata": {},
   "outputs": [],
   "source": [
    "# Pago_unico(pago_id, id_proveedor, preorden)\n",
    "pago_unico = pagos_sin_sub[['pago_id', 'id_proveedor', 'preorden']]\n",
    "pago_unico.to_csv(\"filtered_data/pago_unico.csv\", index=False)"
   ]
  },
  {
   "cell_type": "code",
   "execution_count": 46,
   "metadata": {},
   "outputs": [
    {
     "name": "stderr",
     "output_type": "stream",
     "text": [
      "/var/folders/w_/hg_83yp12fxctnr04jpgsgg00000gn/T/ipykernel_7049/1907337426.py:3: SettingWithCopyWarning: \n",
      "A value is trying to be set on a copy of a slice from a DataFrame\n",
      "\n",
      "See the caveats in the documentation: https://pandas.pydata.org/pandas-docs/stable/user_guide/indexing.html#returning-a-view-versus-a-copy\n",
      "  id_e_f_m.rename(columns={\"id\": \"subs_id\"}, inplace=True)\n"
     ]
    }
   ],
   "source": [
    "# Suscripciones(pago_id, id_suscripcion, fecha_inicio, mensualidad)\n",
    "id_e_f_m = suscripciones_o[[\"id\", \"estado\", \"fecha_inicio\", \"mensualidad\"]]\n",
    "id_e_f_m.rename(columns={\"id\": \"subs_id\"}, inplace=True)\n",
    "# Falta agregar el pago_id correspondiente a cada id_suscripcion hint:usar pagos_2_con_sub_vj\n",
    "# id_suscripcion, estado, fecha_inicio, mensualidad, pago_id\n",
    "suscripciones_ai = pd.merge(id_e_f_m, pagos_2_con_sub_vj, on=\"subs_id\", how=\"inner\")\n",
    "suscripciones = suscripciones_ai.drop(columns=[\"estado\",\"monto\", \"fecha\", \"id_usuario\", \"id_videojuego\"])\n",
    "suscripciones.rename(columns={\"subs_id\": \"id_suscripcion\"}, inplace=True)\n",
    "suscripciones = suscripciones[[\"pago_id\", \"id_suscripcion\", \"fecha_inicio\", \"mensualidad\"]]\n",
    "suscripciones.to_csv(\"filtered_data/suscripciones.csv\", index=False)"
   ]
  },
  {
   "cell_type": "code",
   "execution_count": 47,
   "metadata": {},
   "outputs": [],
   "source": [
    "# Activa(pago_id, id_suscripcion)\n",
    "activas = suscripciones_ai[suscripciones_ai[\"estado\"] == \"active\"]\n",
    "activas = activas[[\"pago_id\", \"subs_id\"]]\n",
    "activas.rename(columns={\"subs_id\": \"id_suscripcion\"}, inplace=True)\n",
    "activas.to_csv(\"filtered_data/activas.csv\", index=False)"
   ]
  },
  {
   "cell_type": "code",
   "execution_count": 48,
   "metadata": {},
   "outputs": [
    {
     "name": "stderr",
     "output_type": "stream",
     "text": [
      "/var/folders/w_/hg_83yp12fxctnr04jpgsgg00000gn/T/ipykernel_7049/3314481865.py:3: SettingWithCopyWarning: \n",
      "A value is trying to be set on a copy of a slice from a DataFrame\n",
      "\n",
      "See the caveats in the documentation: https://pandas.pydata.org/pandas-docs/stable/user_guide/indexing.html#returning-a-view-versus-a-copy\n",
      "  aux.rename(columns={\"id\": \"subs_id\"}, inplace=True)\n"
     ]
    }
   ],
   "source": [
    "# Inactiva(pago_id, id_suscripcion, fecha_termino)\n",
    "aux = suscripciones_o[[\"id\", \"estado\", \"fecha_termino\"]]\n",
    "aux.rename(columns={\"id\": \"subs_id\"}, inplace=True)\n",
    "suscripciones_ai = pd.merge(aux, pagos_2_con_sub_vj, on=\"subs_id\", how=\"inner\")\n",
    "inactivas = suscripciones_ai[suscripciones_ai[\"estado\"] == \"canceled\"]\n",
    "inactivas = inactivas[[\"pago_id\", \"subs_id\", \"fecha_termino\"]]\n",
    "inactivas.rename(columns={\"subs_id\": \"id_suscripcion\"}, inplace=True)\n",
    "inactivas.to_csv(\"filtered_data/inactivas.csv\", index=False)"
   ]
  },
  {
   "cell_type": "code",
   "execution_count": 50,
   "metadata": {},
   "outputs": [
    {
     "data": {
      "text/html": [
       "<div>\n",
       "<style scoped>\n",
       "    .dataframe tbody tr th:only-of-type {\n",
       "        vertical-align: middle;\n",
       "    }\n",
       "\n",
       "    .dataframe tbody tr th {\n",
       "        vertical-align: top;\n",
       "    }\n",
       "\n",
       "    .dataframe thead th {\n",
       "        text-align: right;\n",
       "    }\n",
       "</style>\n",
       "<table border=\"1\" class=\"dataframe\">\n",
       "  <thead>\n",
       "    <tr style=\"text-align: right;\">\n",
       "      <th></th>\n",
       "      <th>pago_id</th>\n",
       "      <th>monto</th>\n",
       "      <th>fecha</th>\n",
       "      <th>id_usuario</th>\n",
       "      <th>preorden</th>\n",
       "      <th>id_proveedor</th>\n",
       "      <th>id_videojuego</th>\n",
       "      <th>subs_id</th>\n",
       "    </tr>\n",
       "  </thead>\n",
       "  <tbody>\n",
       "    <tr>\n",
       "      <th>0</th>\n",
       "      <td>4643</td>\n",
       "      <td>9100</td>\n",
       "      <td>2020-05-12</td>\n",
       "      <td>106</td>\n",
       "      <td>False</td>\n",
       "      <td>3.0</td>\n",
       "      <td>15.0</td>\n",
       "      <td>NaN</td>\n",
       "    </tr>\n",
       "    <tr>\n",
       "      <th>1</th>\n",
       "      <td>5081</td>\n",
       "      <td>9100</td>\n",
       "      <td>2021-06-20</td>\n",
       "      <td>82</td>\n",
       "      <td>False</td>\n",
       "      <td>3.0</td>\n",
       "      <td>15.0</td>\n",
       "      <td>NaN</td>\n",
       "    </tr>\n",
       "    <tr>\n",
       "      <th>2</th>\n",
       "      <td>5109</td>\n",
       "      <td>9100</td>\n",
       "      <td>2021-01-05</td>\n",
       "      <td>83</td>\n",
       "      <td>False</td>\n",
       "      <td>3.0</td>\n",
       "      <td>15.0</td>\n",
       "      <td>NaN</td>\n",
       "    </tr>\n",
       "    <tr>\n",
       "      <th>3</th>\n",
       "      <td>3961</td>\n",
       "      <td>9100</td>\n",
       "      <td>2021-03-03</td>\n",
       "      <td>125</td>\n",
       "      <td>False</td>\n",
       "      <td>3.0</td>\n",
       "      <td>15.0</td>\n",
       "      <td>NaN</td>\n",
       "    </tr>\n",
       "    <tr>\n",
       "      <th>4</th>\n",
       "      <td>4024</td>\n",
       "      <td>9100</td>\n",
       "      <td>2020-10-16</td>\n",
       "      <td>89</td>\n",
       "      <td>False</td>\n",
       "      <td>3.0</td>\n",
       "      <td>15.0</td>\n",
       "      <td>NaN</td>\n",
       "    </tr>\n",
       "  </tbody>\n",
       "</table>\n",
       "</div>"
      ],
      "text/plain": [
       "   pago_id  monto      fecha  id_usuario preorden  id_proveedor  \\\n",
       "0     4643   9100 2020-05-12         106    False           3.0   \n",
       "1     5081   9100 2021-06-20          82    False           3.0   \n",
       "2     5109   9100 2021-01-05          83    False           3.0   \n",
       "3     3961   9100 2021-03-03         125    False           3.0   \n",
       "4     4024   9100 2020-10-16          89    False           3.0   \n",
       "\n",
       "   id_videojuego  subs_id  \n",
       "0           15.0      NaN  \n",
       "1           15.0      NaN  \n",
       "2           15.0      NaN  \n",
       "3           15.0      NaN  \n",
       "4           15.0      NaN  "
      ]
     },
     "execution_count": 50,
     "metadata": {},
     "output_type": "execute_result"
    }
   ],
   "source": [
    "pagos_o.head()"
   ]
  },
  {
   "cell_type": "code",
   "execution_count": 57,
   "metadata": {},
   "outputs": [],
   "source": [
    "# Transaccion(pago_id, id_videojuego, id_usuario, id_proveedor)\n",
    "transacciones = pagos[[\"pago_id\", \"id_videojuego\", \"id_usuario\"]]\n",
    "\n",
    "transacciones_con_proveedor = pd.merge(transacciones, pagos_o, on=\"pago_id\", how=\"left\")\n",
    "transacciones_con_proveedor.drop(columns=[\"monto\", \"fecha\", \"id_usuario_y\",\"preorden\", \"id_videojuego_y\", \"id_videojuego_y\", \"subs_id\"], inplace=True)\n",
    "transacciones_con_proveedor.rename(columns={\"id_usuario_x\": \"id_usuario\", \"id_videojuego_x\": \"id_videojuego\"}, inplace=True)\n",
    "# if id_proveedor is null then it is a suscription and replace with 0\n",
    "transacciones_con_proveedor[\"id_proveedor\"] = transacciones_con_proveedor[\"id_proveedor\"].fillna(0)\n",
    "transacciones_con_proveedor[\"id_proveedor\"] = transacciones_con_proveedor[\"id_proveedor\"].astype(int)\n",
    "\n",
    "transacciones_con_proveedor.to_csv(\"filtered_data/transacciones.csv\", index=False)"
   ]
  },
  {
   "cell_type": "code",
   "execution_count": 31,
   "metadata": {},
   "outputs": [
    {
     "name": "stderr",
     "output_type": "stream",
     "text": [
      "/var/folders/w_/hg_83yp12fxctnr04jpgsgg00000gn/T/ipykernel_7049/1184528872.py:8: SettingWithCopyWarning: \n",
      "A value is trying to be set on a copy of a slice from a DataFrame.\n",
      "Try using .loc[row_indexer,col_indexer] = value instead\n",
      "\n",
      "See the caveats in the documentation: https://pandas.pydata.org/pandas-docs/stable/user_guide/indexing.html#returning-a-view-versus-a-copy\n",
      "  hj[\"id_videojuego\"] = hj[\"id_videojuego\"].astype(int)\n"
     ]
    }
   ],
   "source": [
    "# Horas_juego(id_usuario, id_videojuego, cantidad, fecha_visualizacion)\n",
    "# Aqui asumimos que si un usuario no ha jugado un juego tiene cantidad = 0\n",
    "select = usuario_actividad_o[[\"id_usuario\", \"id_videojuego\", \"cantidad\", \"fecha v\"]]\n",
    "hj = select[select[\"id_videojuego\"].notnull()]\n",
    "hj[\"id_videojuego\"] = hj[\"id_videojuego\"].astype(int)\n",
    "# delete repeated rows with \"id_usuario\", \"id_videojuego\" and keep the first one\n",
    "hj = hj.drop_duplicates(subset=[\"id_usuario\", \"id_videojuego\"], keep=\"first\")\n",
    "# if id_videojuego not in videojuegos.csv then delete that row\n",
    "hj = hj[hj[\"id_videojuego\"].isin(videojuego_o[\"id_videojuego\"])]\n",
    "hj.to_csv(\"filtered_data/horas_juego.csv\", index=False)"
   ]
  },
  {
   "cell_type": "code",
   "execution_count": 32,
   "metadata": {},
   "outputs": [
    {
     "name": "stderr",
     "output_type": "stream",
     "text": [
      "/var/folders/w_/hg_83yp12fxctnr04jpgsgg00000gn/T/ipykernel_7049/1707776398.py:4: SettingWithCopyWarning: \n",
      "A value is trying to be set on a copy of a slice from a DataFrame\n",
      "\n",
      "See the caveats in the documentation: https://pandas.pydata.org/pandas-docs/stable/user_guide/indexing.html#returning-a-view-versus-a-copy\n",
      "  select.rename(columns={\"id\": \"id_proveedor\"}, inplace=True)\n"
     ]
    }
   ],
   "source": [
    "# Ofrece(id_proveedor, id_videojuego, precio, precio_preorden)\n",
    "# Ojo con los nulos\n",
    "select = proveedores_o[[\"id\", \"id_videojuego\", \"precio\", \"precio_preorden\"]]\n",
    "select.rename(columns={\"id\": \"id_proveedor\"}, inplace=True)\n",
    "select.to_csv(\"filtered_data/ofrece.csv\", index=False)"
   ]
  },
  {
   "cell_type": "code",
   "execution_count": 33,
   "metadata": {},
   "outputs": [
    {
     "name": "stderr",
     "output_type": "stream",
     "text": [
      "/var/folders/w_/hg_83yp12fxctnr04jpgsgg00000gn/T/ipykernel_7049/1768845900.py:3: SettingWithCopyWarning: \n",
      "A value is trying to be set on a copy of a slice from a DataFrame.\n",
      "Try using .loc[row_indexer,col_indexer] = value instead\n",
      "\n",
      "See the caveats in the documentation: https://pandas.pydata.org/pandas-docs/stable/user_guide/indexing.html#returning-a-view-versus-a-copy\n",
      "  select[\"id_videojuego\"] = select[\"id_videojuego\"].astype(int)\n"
     ]
    }
   ],
   "source": [
    "# Opinion(id_resena, id_usuario, id_videojuego)\n",
    "select = resena_con_user_y_vj[[\"id_resena\", \"id_usuario\", \"id_videojuego\"]]\n",
    "select[\"id_videojuego\"] = select[\"id_videojuego\"].astype(int)\n",
    "# delete rows that have id_videojuego not in videojuegos.csv\n",
    "select = select[select[\"id_videojuego\"].isin(videojuego_o[\"id_videojuego\"])]\n",
    "select.to_csv(\"filtered_data/opinion.csv\", index=False)"
   ]
  },
  {
   "cell_type": "code",
   "execution_count": 40,
   "metadata": {},
   "outputs": [],
   "source": [
    "# Tiene_cuenta(id_usuario, id_proveedor)\n",
    "select = usuario_proveedor_o[[\"id_usuario\", \"id_proveedor\"]]\n",
    "select.drop_duplicates(subset=[\"id_usuario\", \"id_proveedor\"], keep=\"first\", inplace=True)\n",
    "select.to_csv(\"filtered_data/tiene_cuenta.csv\", index=False)"
   ]
  },
  {
   "cell_type": "code",
   "execution_count": 63,
   "metadata": {},
   "outputs": [],
   "source": [
    "# Vj_genero(id_videojuego, genero)\n",
    "select = videojuego_genero_o\n",
    "select.to_csv(\"filtered_data/vj_genero.csv\", index=False)"
   ]
  },
  {
   "cell_type": "code",
   "execution_count": 60,
   "metadata": {},
   "outputs": [],
   "source": [
    "# Genero_subgenero(genero, subgenero)\n",
    "genero_subgenero = generos_o[[\"genero\", \"subgenero\"]].fillna(\"No tiene\")\n",
    "genero_subgenero.to_csv(\"filtered_data/genero_subgenero.csv\", index=False)"
   ]
  }
 ],
 "metadata": {
  "kernelspec": {
   "display_name": "Python 3",
   "language": "python",
   "name": "python3"
  },
  "language_info": {
   "codemirror_mode": {
    "name": "ipython",
    "version": 3
   },
   "file_extension": ".py",
   "mimetype": "text/x-python",
   "name": "python",
   "nbconvert_exporter": "python",
   "pygments_lexer": "ipython3",
   "version": "3.10.6"
  }
 },
 "nbformat": 4,
 "nbformat_minor": 2
}
